{
 "cells": [
  {
   "cell_type": "markdown",
   "metadata": {},
   "source": [
    "Name: Anushka Srivastava\n",
    "<br>Roll no: 2022086"
   ]
  },
  {
   "cell_type": "markdown",
   "metadata": {},
   "source": [
    "#### Requirements\n",
    "- Biopython library"
   ]
  },
  {
   "cell_type": "code",
   "execution_count": null,
   "metadata": {},
   "outputs": [],
   "source": [
    "# Run this first to install the Biopython library\n",
    "!pip install Biopython"
   ]
  },
  {
   "cell_type": "code",
   "execution_count": 4,
   "metadata": {},
   "outputs": [],
   "source": [
    "# import statements\n",
    "from Bio import Entrez, SeqIO\n",
    "from os import path\n",
    "from os import makedirs\n",
    "from os import listdir\n",
    "import re"
   ]
  },
  {
   "cell_type": "markdown",
   "metadata": {},
   "source": [
    "### Download the genome sequence of Baker’s Yeast (Saccharomyces cerevisiae) using Python or R."
   ]
  },
  {
   "cell_type": "markdown",
   "metadata": {},
   "source": [
    "We store all the files in the directory named `output_dir` which will be automatically created on running the full code."
   ]
  },
  {
   "cell_type": "code",
   "execution_count": null,
   "metadata": {},
   "outputs": [],
   "source": [
    "if not path.exists(\"output_dir\"):\n",
    "    makedirs(\"output_dir\")"
   ]
  },
  {
   "cell_type": "markdown",
   "metadata": {},
   "source": [
    "We are using the `nucleotide` database to search for the fasta file. After accessing the fasta sequence, we perform the file writing operation to save the sequence in a file."
   ]
  },
  {
   "cell_type": "code",
   "execution_count": null,
   "metadata": {},
   "outputs": [],
   "source": [
    "# Function to download the fasta file for the specified accession number and storing it in the output directory\n",
    "def download_fasta_sequence(email, accession_number):\n",
    "  Entrez.email = email\n",
    "  handle = Entrez.efetch(db = \"nucleotide\", id = accession_number, rettype = \"fasta\", retmode = \"text\")\n",
    "  sequence = handle.read()\n",
    "  file_name = accession_number + \".fasta\"\n",
    "  file_path = path.join(\"output_dir\", file_name)\n",
    "  with open(file_path,\"w\") as f:\n",
    "    f.write(sequence)"
   ]
  },
  {
   "cell_type": "markdown",
   "metadata": {},
   "source": [
    "We store all the accession numbers of the yeast genome <u><i>(Chromosome 1-16 and Mitochondria)</i></u> in a list and iterate through them to download their files."
   ]
  },
  {
   "cell_type": "code",
   "execution_count": 20,
   "metadata": {},
   "outputs": [],
   "source": [
    "email = \"anushka22086@iiitd.ac.in\"\n",
    "accession_no = [\"NC_001133.9\",\"NC_001134.8\",\"NC_001135.5\",\"NC_001136.10\",\n",
    "                \"NC_001137.3\",\"NC_001138.5\",\"NC_001139.9\",\"NC_001140.6\",\n",
    "                \"NC_001141.2\",\"NC_001142.9\",\"NC_001143.9\",\"NC_001144.5\",\n",
    "                \"NC_001145.3\",\"NC_001146.8\",\"NC_001147.6\",\"NC_001148.4\",\"NC_001224.1\"]"
   ]
  },
  {
   "cell_type": "code",
   "execution_count": null,
   "metadata": {},
   "outputs": [],
   "source": [
    "for ac in accession_no:\n",
    "    download_fasta_sequence(email,ac)"
   ]
  },
  {
   "cell_type": "markdown",
   "metadata": {},
   "source": [
    "##### Reference:\n",
    "- Tutorial 2 slides"
   ]
  },
  {
   "cell_type": "markdown",
   "metadata": {},
   "source": [
    "### Find the Origin of Replication in the Yeast Genome."
   ]
  },
  {
   "cell_type": "markdown",
   "metadata": {},
   "source": [
    "To find out the Origin of Replications in the genome of Baker's yeast, we first find out the Autonomously Replicating Sequence of the genome. An autonomously replicating sequence (ARS) contains the origin of replication in the yeast genome. The ARS share a somewhat similar pattern called the ARS Consensus Sequence (ACS), which varies from length 11-17 bp."
   ]
  },
  {
   "cell_type": "markdown",
   "metadata": {},
   "source": [
    "According to <a href = \"https://www.yeastgenome.org/locus/S000121252\">Saccharomyces Genome Databases</a>, the ARS nearly matches the given 11 bp ACS: <b>5'-WTTTAYRTTTW-3'</b>, where W can be T or A, Y can be C or T and R can be A or G.\n",
    "<br>\n",
    "This sequence can be further extended to 17 bp ACS: <b>5'-WWWWTTTAYRTTTWGTT-3'</b>"
   ]
  },
  {
   "cell_type": "markdown",
   "metadata": {},
   "source": [
    "So to find out the Origins of Replication in our yeast genome, we use the following logic:<br>\n",
    "1) We first use the 11 bp ACS sequence mentioned above. The 17 bp ACS sequence will be included in this case too as it is simply formed by extending the 11 bp sequence.<br>\n",
    "2) A total of 16 combinations are possible for this ACS sequence. We store all the possible combinations in a list as `ARS Motifs`.<br>\n",
    "3) We iterate through the list of files, we use the `SeqIO` library to parse through the fasta file and obtain the genome sequence.<br>\n",
    "4) We then find out the indices of all the ARS motifs one by one using the `finditer` function in the `re` library which returns the iterator of all the occurences of the given motifs.<br>\n",
    "5) This count is then stored in a dictionary for each file.<br>\n",
    "6) Since the replication origins have been mapped to the ARS sequences, this count of ARS sequences is roughly equal to the number of ORIs. According to <a href = \"https://bioresearch.byu.edu/cs418/BA-chap1and2.pdf\">Finding Hidden Messages in DNA by Phillip Compeau and Pavel Pevzner</a>, there are over 400 different ORIs in a yeast genome, which also verifies our output."
   ]
  },
  {
   "cell_type": "code",
   "execution_count": 8,
   "metadata": {},
   "outputs": [],
   "source": [
    "ars_count = 0\n",
    "ars_pos = {}\n",
    "\n",
    "# ARS Motifs\n",
    "ars = [\"TTTTATATTTT\",\"TTTTATATTTA\",\"TTTTATGTTTT\",\"TTTTATGTTTA\",\n",
    "       \"TTTTACATTTT\",\"TTTTACATTTA\",\"TTTTACGTTTT\",\"TTTTACGTTTA\",\n",
    "       \"ATTTATATTTT\",\"ATTTATATTTA\",\"ATTTATGTTTT\",\"ATTTATGTTTA\",\n",
    "       \"ATTTACATTTT\",\"ATTTACATTTA\",\"ATTTACGTTTT\",\"ATTTACGTTTA\"]"
   ]
  },
  {
   "cell_type": "code",
   "execution_count": 2,
   "metadata": {},
   "outputs": [],
   "source": [
    "# Function to find ARS sequences from the motifs in each fasta file\n",
    "def find_ars_sequences(file, file_no):\n",
    "    global ars_count\n",
    "    records = SeqIO.parse(file,\"fasta\")\n",
    "    for record in records:\n",
    "        sequence = str(record.seq)\n",
    "        for motif in ars:\n",
    "            matches = re.finditer(motif, sequence)\n",
    "            for match in matches:\n",
    "                ars_count += 1\n",
    "                if file_no in ars_pos:\n",
    "                    ars_pos[file_no].append(match.start()) # 0-based indexing followed\n",
    "                else:\n",
    "                    ars_pos[file_no] = [match.start()]"
   ]
  },
  {
   "cell_type": "markdown",
   "metadata": {},
   "source": [
    "We follow 0-based indexing. Hence, our sequence begins from the index 0."
   ]
  },
  {
   "cell_type": "code",
   "execution_count": 9,
   "metadata": {},
   "outputs": [],
   "source": [
    "# Retrieving the list of all files \n",
    "fasta_files = listdir(\"output_dir\")\n",
    "\n",
    "for file in fasta_files:\n",
    "    file = \"output_dir/\" + file\n",
    "    idx = file.find(\".fasta\")\n",
    "    find_ars_sequences(file,file[11:idx])"
   ]
  },
  {
   "cell_type": "markdown",
   "metadata": {},
   "source": [
    "We iterate through our dictionary and print out the indices of ORIs in each file."
   ]
  },
  {
   "cell_type": "code",
   "execution_count": 10,
   "metadata": {},
   "outputs": [
    {
     "name": "stdout",
     "output_type": "stream",
     "text": [
      "Total number of Origins of Replication (ORIs) found: 459\n",
      "\n",
      "Number of ORIs in NC_001133.9: 7\n",
      "Position of ORIs in NC_001133.9:\n",
      "[17149, 159953, 171816, 176236, 176522, 208605, 229450]\n",
      "\n",
      "Number of ORIs in NC_001134.8: 29\n",
      "Position of ORIs in NC_001134.8:\n",
      "[80, 53415, 122598, 189470, 195767, 231686, 238293, 246606, 256898, 326080, 326195, 368745, 381151, 403313, 420235, 424981, 543395, 562508, 568821, 603190, 622760, 632052, 665038, 676293, 755032, 777821, 784662, 792466, 812416]\n",
      "\n",
      "Number of ORIs in NC_001135.5: 11\n",
      "Position of ORIs in NC_001135.5:\n",
      "[11256, 14700, 52343, 74520, 78863, 152629, 201845, 224863, 231261, 233373, 315820]\n",
      "\n",
      "Number of ORIs in NC_001136.10: 57\n",
      "Position of ORIs in NC_001136.10:\n",
      "[42618, 50459, 67634, 77223, 104908, 111128, 117397, 156052, 210566, 232057, 233925, 263124, 340870, 347217, 405175, 420761, 422287, 427871, 439367, 443872, 470295, 477645, 480280, 521602, 521761, 548323, 561437, 609151, 628647, 636557, 655624, 677939, 688187, 709270, 807779, 913867, 963622, 1057898, 1070495, 1077731, 1080367, 1090977, 1092624, 1182775, 1193665, 1240933, 1259303, 1272225, 1398457, 1404336, 1414215, 1422530, 1445629, 1447485, 1462061, 1462567, 1524662]\n",
      "\n",
      "Number of ORIs in NC_001137.3: 25\n",
      "Position of ORIs in NC_001137.3:\n",
      "[64, 5458, 7976, 16057, 46560, 49778, 59536, 99492, 105316, 109085, 110515, 141233, 230002, 251683, 260311, 280702, 284609, 287569, 301681, 309689, 345455, 390603, 428937, 498891, 569636]\n",
      "\n",
      "Number of ORIs in NC_001138.5: 6\n",
      "Position of ORIs in NC_001138.5:\n",
      "[27962, 43485, 80490, 127868, 195147, 269769]\n",
      "\n",
      "Number of ORIs in NC_001139.9: 31\n",
      "Position of ORIs in NC_001139.9:\n",
      "[2378, 35566, 41364, 43207, 65477, 147026, 203973, 257986, 264217, 303491, 396274, 396280, 451140, 516644, 545272, 561391, 574702, 588415, 597431, 607375, 629060, 728056, 747072, 793126, 803042, 836306, 889695, 929386, 952440, 1060021, 1083672]\n",
      "\n",
      "Number of ORIs in NC_001140.6: 15\n",
      "Position of ORIs in NC_001140.6:\n",
      "[245, 16518, 64123, 83827, 147808, 162821, 236775, 263025, 304820, 380992, 457805, 479735, 515887, 529202, 556142]\n",
      "\n",
      "Number of ORIs in NC_001141.2: 25\n",
      "Position of ORIs in NC_001141.2:\n",
      "[287, 5892, 14381, 33479, 50457, 97191, 110140, 118952, 133757, 135954, 138444, 140546, 155110, 175175, 214737, 223179, 246020, 270662, 290174, 295755, 355641, 357227, 379365, 406426, 439105]\n",
      "\n",
      "Number of ORIs in NC_001142.9: 31\n",
      "Position of ORIs in NC_001142.9:\n",
      "[270, 5875, 14364, 28194, 40166, 58840, 129035, 150689, 184345, 186952, 228810, 241740, 250822, 270058, 283500, 286691, 319367, 337354, 409340, 445361, 487302, 504861, 510391, 540610, 628337, 645374, 675075, 724521, 724949, 730120, 744939]\n",
      "\n",
      "Number of ORIs in NC_001143.9: 23\n",
      "Position of ORIs in NC_001143.9:\n",
      "[15940, 30312, 42403, 98352, 98386, 153748, 213538, 215299, 237332, 277028, 320816, 329728, 332862, 351069, 376306, 453559, 458672, 499281, 517064, 551705, 581898, 642785, 665941]\n",
      "\n",
      "Number of ORIs in NC_001144.5: 32\n",
      "Position of ORIs in NC_001144.5:\n",
      "[283, 5920, 93284, 106161, 122397, 136251, 151081, 178704, 250882, 291531, 328578, 450507, 492690, 493062, 577896, 592867, 607730, 622065, 659894, 687936, 710150, 715431, 749960, 795564, 802504, 822091, 849619, 881108, 993047, 1007242, 1013791, 1064318]\n",
      "\n",
      "Number of ORIs in NC_001145.3: 32\n",
      "Position of ORIs in NC_001145.3:\n",
      "[261, 44861, 103857, 137323, 149621, 159048, 226915, 236673, 263128, 266110, 284809, 286360, 287892, 372107, 397488, 468268, 505238, 520007, 520013, 577142, 586593, 624332, 648855, 684223, 692101, 731627, 763914, 790119, 800176, 870789, 878722, 923577]\n",
      "\n",
      "Number of ORIs in NC_001146.8: 27\n",
      "Position of ORIs in NC_001146.8:\n",
      "[171, 36228, 191022, 203345, 234158, 283059, 292945, 340875, 348888, 358975, 364246, 387884, 479446, 482348, 505303, 508773, 525747, 526413, 585465, 591246, 609521, 609538, 691986, 700262, 738721, 769793, 783315]\n",
      "\n",
      "Number of ORIs in NC_001147.6: 30\n",
      "Position of ORIs in NC_001147.6:\n",
      "[35716, 92017, 167005, 267749, 300175, 413424, 483177, 488522, 498654, 513108, 533251, 609287, 646620, 663647, 669509, 729797, 766691, 768523, 778495, 829874, 832528, 843668, 848300, 900041, 935686, 981513, 994636, 1004267, 1046030, 1083959]\n",
      "\n",
      "Number of ORIs in NC_001148.4: 27\n",
      "Position of ORIs in NC_001148.4:\n",
      "[80, 23522, 72088, 116595, 159963, 210014, 384599, 430283, 434198, 439447, 443871, 458609, 459744, 481285, 511642, 511710, 547588, 563884, 564008, 702002, 815973, 829776, 842792, 880913, 910154, 928374, 942433]\n",
      "\n",
      "Number of ORIs in NC_001224.1: 51\n",
      "Position of ORIs in:\n",
      "[886, 4114, 4695, 5105, 5569, 6258, 8087, 10359, 10880, 27351, 28291, 28379, 28791, 29448, 30996, 32108, 37805, 39795, 42487, 42691, 48153, 48171, 50420, 51461, 52895, 54174, 54543, 54551, 56456, 57756, 57962, 57968, 60405, 62708, 65622, 66008, 66035, 66658, 66793, 68693, 68948, 69560, 69798, 70432, 72156, 72272, 72548, 76025, 76202, 76705, 80322]\n"
     ]
    }
   ],
   "source": [
    "print(\"Total number of Origins of Replication (ORIs) found:\", ars_count)\n",
    "print()\n",
    "for i in ars_pos:\n",
    "    if i == \"NC_001224.1\":\n",
    "        continue\n",
    "    print(\"Number of ORIs in \" + str(i) + \": \" + str(len(ars_pos[i])))\n",
    "    print(\"Position of ORIs in \" + str(i) + \":\")\n",
    "    print(sorted(ars_pos[i]))\n",
    "    print()\n",
    "print(\"Number of ORIs in NC_001224.1: \" + str(len(ars_pos[\"NC_001224.1\"])))\n",
    "print(\"Position of ORIs in:\")\n",
    "print(sorted(ars_pos[\"NC_001224.1\"]))"
   ]
  },
  {
   "cell_type": "markdown",
   "metadata": {},
   "source": [
    "##### References:\n",
    "- <a href = \"https://www.yeastgenome.org/locus/S000121252\"> Saccharomyces Genome Database</a>\n",
    "- Deshpande, A M., and C S. Newlon. \"The ARS Consensus Sequence Is Required for Chromosomal Origin Function in Saccharomyces Cerevisiae.\" Molecular and Cellular Biology 12, no. 10 (1992): 4305-4313. Accessed February 13, 2024. https://doi.org/10.1128/mcb.12.10.4305.\n",
    "- <a href = \"https://bioresearch.byu.edu/cs418/BA-chap1and2.pdf\">Finding Hidden Messages in DNA by Phillip Compeau and Pavel Pevzner</a>\n",
    "- Nieduszynski, Conrad A., Yvonne Knox, and Anne D. Donaldson. \"Genome-wide Identification of Replication Origins in Yeast by Comparative Genomics.\" Genes & Development 20, no. 14 (2006): 1874-1879. Accessed February 13, 2024. https://doi.org/10.1101/gad.385306."
   ]
  }
 ],
 "metadata": {
  "kernelspec": {
   "display_name": "Python 3",
   "language": "python",
   "name": "python3"
  },
  "language_info": {
   "codemirror_mode": {
    "name": "ipython",
    "version": 3
   },
   "file_extension": ".py",
   "mimetype": "text/x-python",
   "name": "python",
   "nbconvert_exporter": "python",
   "pygments_lexer": "ipython3",
   "version": "3.11.5"
  }
 },
 "nbformat": 4,
 "nbformat_minor": 2
}
